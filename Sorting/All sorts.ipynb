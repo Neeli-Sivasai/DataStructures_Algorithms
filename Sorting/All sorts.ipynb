{
 "cells": [
  {
   "cell_type": "code",
   "execution_count": 2,
   "metadata": {},
   "outputs": [
    {
     "name": "stdout",
     "output_type": "stream",
     "text": [
      "[2, 4, 5, 6, 7, 8, 12, 15]\n"
     ]
    }
   ],
   "source": [
    "def Selection(arr):\n",
    "    for i in range(len(arr) - 1):\n",
    "        min = i\n",
    "        \n",
    "        for j in range(i+1,len(arr)):\n",
    "            if(arr[j]< arr[min]):\n",
    "                min = j\n",
    "                \n",
    "        temp = arr[i]\n",
    "        arr[i] = arr[min]\n",
    "        arr[min] = temp\n",
    "        \n",
    "        \n",
    "    return arr\n",
    "             \n",
    "            \n",
    "lists = [5,8,2,6,4,7,15,12]\n",
    "print(Selection(lists))"
   ]
  },
  {
   "cell_type": "code",
   "execution_count": 3,
   "metadata": {},
   "outputs": [
    {
     "name": "stdout",
     "output_type": "stream",
     "text": [
      "[10, 12, 16, 21, 25, 56, 56, 74, 89]\n"
     ]
    }
   ],
   "source": [
    "def Bubblesort(k):\n",
    "    \n",
    "    for i in range(len(k)-1):\n",
    "        swapped = False\n",
    "        for i in range(len(k) - 1 - i):\n",
    "            temp = k[i+1]\n",
    "\n",
    "            if(k[i] > k[i+1]):\n",
    "                k[i+1] = k[i]\n",
    "                k[i] = temp\n",
    "                swapped = True\n",
    "                \n",
    "        if not swapped:\n",
    "            break\n",
    "\n",
    "    return k\n",
    "    \n",
    "\n",
    "lists = [56,74,25,12,56,89,21,10,16]\n",
    "\n",
    "print(Bubblesort(lists))"
   ]
  },
  {
   "cell_type": "code",
   "execution_count": 4,
   "metadata": {},
   "outputs": [
    {
     "name": "stdout",
     "output_type": "stream",
     "text": [
      "Given array is\n",
      "12\n",
      "11\n",
      "13\n",
      "5\n",
      "6\n",
      "7\n",
      "\n",
      "\n",
      "Sorted array is\n",
      "5\n",
      "6\n",
      "7\n",
      "11\n",
      "12\n",
      "13\n"
     ]
    }
   ],
   "source": [
    "def merge(arr, l, m, r):\n",
    "    n1 = m - l + 1\n",
    "    n2 = r - m\n",
    " \n",
    "    # create temp arrays\n",
    "    L = [0] * (n1)\n",
    "    R = [0] * (n2)\n",
    " \n",
    "    # Copy data to temp arrays L[] and R[]\n",
    "    for i in range(0, n1):\n",
    "        L[i] = arr[l + i]\n",
    " \n",
    "    for j in range(0, n2):\n",
    "        R[j] = arr[m + 1 + j]\n",
    " \n",
    "    # Merge the temp arrays back into arr[l..r]\n",
    "    i = 0     # Initial index of first subarray\n",
    "    j = 0     # Initial index of second subarray\n",
    "    k = l     # Initial index of merged subarray\n",
    " \n",
    "    while i < n1 and j < n2:\n",
    "        if L[i] <= R[j]:\n",
    "            arr[k] = L[i]\n",
    "            i += 1\n",
    "        else:\n",
    "            arr[k] = R[j]\n",
    "            j += 1\n",
    "        k += 1\n",
    " \n",
    "    # Copy the remaining elements of L[], if there\n",
    "    # are any\n",
    "    while i < n1:\n",
    "        arr[k] = L[i]\n",
    "        i += 1\n",
    "        k += 1\n",
    " \n",
    "    # Copy the remaining elements of R[], if there\n",
    "    # are any\n",
    "    while j < n2:\n",
    "        arr[k] = R[j]\n",
    "        j += 1\n",
    "        k += 1\n",
    " \n",
    "# l is for left index and r is right index of the\n",
    "# sub-array of arr to be sorted\n",
    " \n",
    " \n",
    "def mergeSort(arr, l, r):\n",
    "    if l < r:\n",
    " \n",
    "        # Same as (l+r)//2, but avoids overflow for\n",
    "        # large l and h\n",
    "        m = l+(r-l)//2\n",
    " \n",
    "        # Sort first and second halves\n",
    "        mergeSort(arr, l, m)\n",
    "        mergeSort(arr, m+1, r)\n",
    "        merge(arr, l, m, r)\n",
    " \n",
    " \n",
    "# Driver code to test above\n",
    "arr = [12, 11, 13, 5, 6, 7]\n",
    "n = len(arr)\n",
    "print(\"Given array is\")\n",
    "for i in range(n):\n",
    "    print(\"%d\" % arr[i]),\n",
    " \n",
    "mergeSort(arr, 0, n-1)\n",
    "print(\"\\n\\nSorted array is\")\n",
    "for i in range(n):\n",
    "    print(\"%d\" % arr[i]),\n",
    " \n",
    "# This code is contributed by Mohit Kumra"
   ]
  },
  {
   "cell_type": "code",
   "execution_count": null,
   "metadata": {},
   "outputs": [],
   "source": []
  }
 ],
 "metadata": {
  "kernelspec": {
   "display_name": "Python 3",
   "language": "python",
   "name": "python3"
  },
  "language_info": {
   "codemirror_mode": {
    "name": "ipython",
    "version": 3
   },
   "file_extension": ".py",
   "mimetype": "text/x-python",
   "name": "python",
   "nbconvert_exporter": "python",
   "pygments_lexer": "ipython3",
   "version": "3.8.3"
  }
 },
 "nbformat": 4,
 "nbformat_minor": 4
}
