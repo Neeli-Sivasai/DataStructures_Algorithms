{
 "cells": [
  {
   "cell_type": "code",
   "execution_count": 7,
   "metadata": {},
   "outputs": [
    {
     "name": "stdout",
     "output_type": "stream",
     "text": [
      "[12, 17, 19, 20, 22, 25, 25]\n",
      "[15, 16, 12, 10, 14, 20, 23, 21, 19, 18]\n"
     ]
    }
   ],
   "source": [
    "def Mergesort(a,b):\n",
    "\n",
    "    lists = []\n",
    "\n",
    "    len_a = len(a)\n",
    "    len_b = len(b)\n",
    "\n",
    "    i = j = 0\n",
    "\n",
    "    while(i < len_a and j < len_b ):\n",
    "\n",
    "        if(a[i]<=b[j]):\n",
    "\n",
    "            lists.append(a[i])\n",
    "            i +=1\n",
    "\n",
    "        else:\n",
    "\n",
    "            lists.append(b[j])\n",
    "            j +=1\n",
    "\n",
    "    while i < len_a:\n",
    "        lists.append(a[i])\n",
    "        i +=1\n",
    "\n",
    "    while j < len_b:\n",
    "        lists.append(b[j])\n",
    "        j +=1\n",
    "\n",
    "\n",
    "\n",
    "\n",
    "    return lists\n",
    "\n",
    "\n",
    "\n",
    "\n",
    "def merge_sort(arr):\n",
    "    if len(arr) <= 1:\n",
    "        return arr\n",
    "    \n",
    "    mid = len(arr)//2\n",
    "    left = arr[:mid]\n",
    "    right = arr[mid:]\n",
    "    \n",
    "    left = merge_sort(left)\n",
    "    right = merge_sort(right)\n",
    "    \n",
    "    return Mergesort(left,right)\n",
    "\n",
    "\n",
    "\n",
    "\n",
    "a = [15,16,12,10,14]\n",
    "b = [20,23,21,19,18]\n",
    "\n",
    "\n",
    "\n",
    "\n",
    "arr = [12,25,19,17,20,22,25]\n",
    "\n",
    "print(merge_sort(arr))\n",
    "print(Mergesort(a,b))\n"
   ]
  },
  {
   "cell_type": "code",
   "execution_count": null,
   "metadata": {},
   "outputs": [],
   "source": []
  }
 ],
 "metadata": {
  "kernelspec": {
   "display_name": "Python 3",
   "language": "python",
   "name": "python3"
  },
  "language_info": {
   "codemirror_mode": {
    "name": "ipython",
    "version": 3
   },
   "file_extension": ".py",
   "mimetype": "text/x-python",
   "name": "python",
   "nbconvert_exporter": "python",
   "pygments_lexer": "ipython3",
   "version": "3.8.3"
  }
 },
 "nbformat": 4,
 "nbformat_minor": 4
}
