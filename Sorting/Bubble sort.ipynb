{
 "cells": [
  {
   "cell_type": "code",
   "execution_count": 14,
   "metadata": {},
   "outputs": [
    {
     "name": "stdout",
     "output_type": "stream",
     "text": [
      "[10, 12, 16, 21, 25, 56, 56, 74, 89]\n"
     ]
    }
   ],
   "source": [
    "def Bubblesort(k):\n",
    "    \n",
    "    for i in range(len(k)-1):\n",
    "        swapped = False\n",
    "        for i in range(len(k) - 1 - i):\n",
    "            temp = k[i+1]\n",
    "\n",
    "            if(k[i] > k[i+1]):\n",
    "                k[i+1] = k[i]\n",
    "                k[i] = temp\n",
    "                swapped = True\n",
    "                \n",
    "        if not swapped:\n",
    "            break\n",
    "\n",
    "    return k\n",
    "    \n",
    "\n",
    "lists = [56,74,25,12,56,89,21,10,16]\n",
    "\n",
    "print(Bubblesort(lists))"
   ]
  }
 ],
 "metadata": {
  "kernelspec": {
   "display_name": "Python 3",
   "language": "python",
   "name": "python3"
  },
  "language_info": {
   "codemirror_mode": {
    "name": "ipython",
    "version": 3
   },
   "file_extension": ".py",
   "mimetype": "text/x-python",
   "name": "python",
   "nbconvert_exporter": "python",
   "pygments_lexer": "ipython3",
   "version": "3.8.3"
  }
 },
 "nbformat": 4,
 "nbformat_minor": 4
}
