{
 "cells": [
  {
   "cell_type": "code",
   "execution_count": 21,
   "metadata": {},
   "outputs": [
    {
     "name": "stdout",
     "output_type": "stream",
     "text": [
      "electronics\n",
      "tv\n",
      "computer\n"
     ]
    }
   ],
   "source": [
    "#Tree creation\n",
    "\n",
    "class tree:\n",
    "    def __init__(self, data):\n",
    "        self.data = data\n",
    "        self.parent = None\n",
    "        self.children = []\n",
    "        \n",
    "    def child_creation(self, child):\n",
    "        self.parent = self.data\n",
    "        self.children.append(child)\n",
    "        \n",
    "    def print_tree(self):\n",
    "        print(self.data)\n",
    "        if self.children:\n",
    "            for x in self.children:\n",
    "                x.print_tree()\n",
    "    \n",
    "k = tree('electronics')\n",
    "k.child_creation(tree('tv'))\n",
    "k.child_creation(tree('computer'))\n",
    " \n",
    "\n",
    "k.print_tree()\n",
    "    \n"
   ]
  }
 ],
 "metadata": {
  "kernelspec": {
   "display_name": "Python 3",
   "language": "python",
   "name": "python3"
  },
  "language_info": {
   "codemirror_mode": {
    "name": "ipython",
    "version": 3
   },
   "file_extension": ".py",
   "mimetype": "text/x-python",
   "name": "python",
   "nbconvert_exporter": "python",
   "pygments_lexer": "ipython3",
   "version": "3.8.3"
  }
 },
 "nbformat": 4,
 "nbformat_minor": 4
}
