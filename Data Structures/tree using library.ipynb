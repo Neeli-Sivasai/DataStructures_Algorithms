{
 "cells": [
  {
   "cell_type": "code",
   "execution_count": 3,
   "metadata": {},
   "outputs": [],
   "source": [
    "import anytree\n",
    "from anytree import Node, RenderTree"
   ]
  },
  {
   "cell_type": "code",
   "execution_count": 9,
   "metadata": {},
   "outputs": [
    {
     "name": "stdout",
     "output_type": "stream",
     "text": [
      "Node('/Cooper/Sparks/Billy')\n"
     ]
    }
   ],
   "source": [
    "#Young sheldon family tree\n",
    "\n",
    "cooper = Node(\"Cooper\")\n",
    "george = Node(\"George\", parent = cooper)\n",
    "sparks = Node(\"Sparks\", parent = cooper)\n",
    "sheldon = Node(\"Sheldon\", parent = george)\n",
    "missy = Node(\"Missy\", parent = george)\n",
    "billy = Node(\"Billy\", parent = sparks)\n",
    "print(billy)"
   ]
  },
  {
   "cell_type": "code",
   "execution_count": 10,
   "metadata": {},
   "outputs": [
    {
     "name": "stdout",
     "output_type": "stream",
     "text": [
      "Cooper\n",
      "├── George\n",
      "│   ├── Sheldon\n",
      "│   └── Missy\n",
      "└── Sparks\n",
      "    └── Billy\n"
     ]
    }
   ],
   "source": [
    "for pre, fill, node in RenderTree(cooper):\n",
    "    print(\"%s%s\" % (pre,node.name))"
   ]
  }
 ],
 "metadata": {
  "kernelspec": {
   "display_name": "Python 3",
   "language": "python",
   "name": "python3"
  },
  "language_info": {
   "codemirror_mode": {
    "name": "ipython",
    "version": 3
   },
   "file_extension": ".py",
   "mimetype": "text/x-python",
   "name": "python",
   "nbconvert_exporter": "python",
   "pygments_lexer": "ipython3",
   "version": "3.8.3"
  }
 },
 "nbformat": 4,
 "nbformat_minor": 4
}
