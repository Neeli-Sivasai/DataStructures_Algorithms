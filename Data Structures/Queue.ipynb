{
 "cells": [
  {
   "cell_type": "code",
   "execution_count": 4,
   "metadata": {},
   "outputs": [
    {
     "data": {
      "text/plain": [
       "([3, 2], 1)"
      ]
     },
     "execution_count": 4,
     "metadata": {},
     "output_type": "execute_result"
    }
   ],
   "source": [
    "lists = []\n",
    "lists.insert(0,1)\n",
    "lists.insert(0,2)\n",
    "lists.insert(0,3)\n",
    "\n",
    "lists, lists.pop()\n"
   ]
  },
  {
   "cell_type": "code",
   "execution_count": 5,
   "metadata": {},
   "outputs": [
    {
     "name": "stdout",
     "output_type": "stream",
     "text": [
      "deque([3, 2, 1])\n"
     ]
    }
   ],
   "source": [
    "\n",
    "from collections import deque\n",
    "k = deque()\n",
    "k.appendleft(1)\n",
    "k.appendleft(2)\n",
    "k.appendleft(3)\n",
    "\n",
    "print(k)\n"
   ]
  },
  {
   "cell_type": "code",
   "execution_count": 8,
   "metadata": {},
   "outputs": [
    {
     "data": {
      "text/plain": [
       "1"
      ]
     },
     "execution_count": 8,
     "metadata": {},
     "output_type": "execute_result"
    }
   ],
   "source": [
    "class queue():\n",
    "    def __init__(self):\n",
    "        self.list = []\n",
    "        \n",
    "    def push(self, data):\n",
    "        self.list.insert(0,data)\n",
    "        \n",
    "    def pop(self):\n",
    "        return self.list.pop()\n",
    "    \n",
    "    def final(self):\n",
    "        print(self.list)\n",
    "        \n",
    "q = queue()\n",
    "q.push(1)\n",
    "q.push(2)\n",
    "q.push(3)\n",
    "q.pop()"
   ]
  },
  {
   "cell_type": "code",
   "execution_count": 9,
   "metadata": {},
   "outputs": [
    {
     "name": "stdout",
     "output_type": "stream",
     "text": [
      "[3, 2]\n"
     ]
    }
   ],
   "source": [
    "q.final()"
   ]
  }
 ],
 "metadata": {
  "kernelspec": {
   "display_name": "Python 3",
   "language": "python",
   "name": "python3"
  },
  "language_info": {
   "codemirror_mode": {
    "name": "ipython",
    "version": 3
   },
   "file_extension": ".py",
   "mimetype": "text/x-python",
   "name": "python",
   "nbconvert_exporter": "python",
   "pygments_lexer": "ipython3",
   "version": "3.8.3"
  }
 },
 "nbformat": 4,
 "nbformat_minor": 4
}
