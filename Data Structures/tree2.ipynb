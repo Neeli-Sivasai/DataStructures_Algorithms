{
 "cells": [
  {
   "cell_type": "code",
   "execution_count": 2,
   "metadata": {},
   "outputs": [
    {
     "name": "stdout",
     "output_type": "stream",
     "text": [
      "electronics\n",
      "tv\n"
     ]
    }
   ],
   "source": [
    "class tree:\n",
    "    def __init__(self,data):\n",
    "        self.data = data\n",
    "        self.parent = None\n",
    "        self.children = []\n",
    "        \n",
    "    def add_child(self,child):\n",
    "        self.parent = self.data\n",
    "        self.children.append(child)\n",
    "        \n",
    "    def re_print(self):\n",
    "        print(self.data)\n",
    "        \n",
    "        if self.children:\n",
    "            for i in self.children:\n",
    "                i.re_print()\n",
    "\n",
    "                \n",
    "t = tree('electronics')\n",
    "t.add_child(tree('tv'))\n",
    "\n",
    "t.re_print()"
   ]
  }
 ],
 "metadata": {
  "kernelspec": {
   "display_name": "Python 3",
   "language": "python",
   "name": "python3"
  },
  "language_info": {
   "codemirror_mode": {
    "name": "ipython",
    "version": 3
   },
   "file_extension": ".py",
   "mimetype": "text/x-python",
   "name": "python",
   "nbconvert_exporter": "python",
   "pygments_lexer": "ipython3",
   "version": "3.8.3"
  }
 },
 "nbformat": 4,
 "nbformat_minor": 4
}
