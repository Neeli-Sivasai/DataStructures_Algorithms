{
 "cells": [
  {
   "cell_type": "code",
   "execution_count": 42,
   "metadata": {},
   "outputs": [
    {
     "name": "stdout",
     "output_type": "stream",
     "text": [
      "Enter the required number10\n"
     ]
    }
   ],
   "source": [
    "lists = [10,20,30,40,50,60,70,80]\n",
    "n = len(lists)\n",
    "k = int(input(\"Enter the required number\"))\n",
    "\n",
    "\n",
    "for i in range(1,8):\n",
    "    if(lists[n//2] < k):\n",
    "        n = n + n//(4)\n",
    "\n",
    "    if(lists[n//2] > k):\n",
    "        n = n - n//(4)\n",
    "\n",
    "    if(lists[n//2] == k):\n",
    "        print(\"Found\")\n",
    "        break\n",
    "        \n",
    "\n",
    "    \n",
    "    "
   ]
  },
  {
   "cell_type": "code",
   "execution_count": null,
   "metadata": {},
   "outputs": [],
   "source": []
  }
 ],
 "metadata": {
  "kernelspec": {
   "display_name": "Python 3",
   "language": "python",
   "name": "python3"
  },
  "language_info": {
   "codemirror_mode": {
    "name": "ipython",
    "version": 3
   },
   "file_extension": ".py",
   "mimetype": "text/x-python",
   "name": "python",
   "nbconvert_exporter": "python",
   "pygments_lexer": "ipython3",
   "version": "3.8.3"
  }
 },
 "nbformat": 4,
 "nbformat_minor": 4
}
