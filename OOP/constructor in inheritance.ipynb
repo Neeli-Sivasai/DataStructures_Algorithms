{
 "cells": [
  {
   "cell_type": "code",
   "execution_count": 15,
   "metadata": {},
   "outputs": [
    {
     "name": "stdout",
     "output_type": "stream",
     "text": [
      "Init of A\n"
     ]
    }
   ],
   "source": [
    "class A():\n",
    "    def __init__(self):\n",
    "        print(\"Init of A\")\n",
    "    \n",
    "    def feature1(self):\n",
    "        print(\"Feature 1 is working\")\n",
    "     \n",
    "    def feature2(self):\n",
    "        print(\"Feature 1 is working\")\n",
    "        \n",
    "        \n",
    "class B(A):\n",
    "    '''def __init__(self):\n",
    "        print(\"Init of B\")'''\n",
    "  \n",
    "    def feature3(self):\n",
    "        print(\"Feature 3 is working\")\n",
    "            \n",
    " \n",
    "    def feature4(self):\n",
    "        print(\"Feature 4 is working\")\n",
    "            \n",
    "            \n",
    "b = B()"
   ]
  }
 ],
 "metadata": {
  "kernelspec": {
   "display_name": "Python 3",
   "language": "python",
   "name": "python3"
  },
  "language_info": {
   "codemirror_mode": {
    "name": "ipython",
    "version": 3
   },
   "file_extension": ".py",
   "mimetype": "text/x-python",
   "name": "python",
   "nbconvert_exporter": "python",
   "pygments_lexer": "ipython3",
   "version": "3.8.3"
  }
 },
 "nbformat": 4,
 "nbformat_minor": 4
}
