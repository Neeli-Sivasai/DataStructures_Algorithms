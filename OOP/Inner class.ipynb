{
 "cells": [
  {
   "cell_type": "code",
   "execution_count": 7,
   "metadata": {},
   "outputs": [
    {
     "name": "stdout",
     "output_type": "stream",
     "text": [
      "10\n",
      "10\n"
     ]
    },
    {
     "data": {
      "text/plain": [
       "<__main__.Computer.Laptop at 0x1a30491af10>"
      ]
     },
     "execution_count": 7,
     "metadata": {},
     "output_type": "execute_result"
    }
   ],
   "source": [
    "class Computer():\n",
    "    \n",
    "    def __init__(self,ram,processor):\n",
    "        self.ram = ram\n",
    "        self.processor = processor\n",
    "        self.lap = self.Laptop()\n",
    "        \n",
    "       \n",
    "        \n",
    "        \n",
    "    def kindle(self):\n",
    "        print(self.ram, self.processor, self.lap)\n",
    "        \n",
    "    class Laptop():\n",
    "        \n",
    "        def __init__(self):\n",
    "            self.brand = 10\n",
    "            print(self.brand)\n",
    "            \n",
    "            \n",
    "s1 = Computer('8GB','I5')\n",
    "Computer.Laptop()\n",
    "\n",
    "   "
   ]
  }
 ],
 "metadata": {
  "kernelspec": {
   "display_name": "Python 3",
   "language": "python",
   "name": "python3"
  },
  "language_info": {
   "codemirror_mode": {
    "name": "ipython",
    "version": 3
   },
   "file_extension": ".py",
   "mimetype": "text/x-python",
   "name": "python",
   "nbconvert_exporter": "python",
   "pygments_lexer": "ipython3",
   "version": "3.8.3"
  }
 },
 "nbformat": 4,
 "nbformat_minor": 4
}
