{
 "cells": [
  {
   "cell_type": "code",
   "execution_count": 8,
   "metadata": {},
   "outputs": [
    {
     "name": "stdout",
     "output_type": "stream",
     "text": [
      "Its California Bro!\n",
      "Its United states bro!\n"
     ]
    }
   ],
   "source": [
    "class UnitedStates:\n",
    "    def execute(self):\n",
    "        print(\"Its United states bro!\")\n",
    "        \n",
    "class California:\n",
    "    def execute(self):\n",
    "        print(\"Its California Bro!\")\n",
    "        \n",
    "class Country:\n",
    "    def code(self,ide):\n",
    "        ide.execute()\n",
    "        \n",
    "c = California() \n",
    "b = UnitedStates()\n",
    "a = Country()\n",
    "a.code(c)\n",
    "a.code(b)\n",
    "                "
   ]
  }
 ],
 "metadata": {
  "kernelspec": {
   "display_name": "Python 3",
   "language": "python",
   "name": "python3"
  },
  "language_info": {
   "codemirror_mode": {
    "name": "ipython",
    "version": 3
   },
   "file_extension": ".py",
   "mimetype": "text/x-python",
   "name": "python",
   "nbconvert_exporter": "python",
   "pygments_lexer": "ipython3",
   "version": "3.8.3"
  }
 },
 "nbformat": 4,
 "nbformat_minor": 4
}
