{
 "cells": [
  {
   "cell_type": "code",
   "execution_count": 8,
   "metadata": {},
   "outputs": [
    {
     "name": "stdout",
     "output_type": "stream",
     "text": [
      "i5\n",
      "i5\n",
      "Both are same\n",
      "Not same\n"
     ]
    }
   ],
   "source": [
    "class computer:\n",
    "    \n",
    "    def __init__(self, cpu, company):\n",
    "        self.cpu = cpu\n",
    "        self.company = company\n",
    "        \n",
    "    def compare(self, other):\n",
    "        if (self.cpu == other.cpu):\n",
    "            print(\"Both are same\")\n",
    "            \n",
    "        else:\n",
    "            print(\"Not same\")\n",
    "            \n",
    "            \n",
    "c1 = computer('i5','lenovo')\n",
    "c2 = computer('i5','lenovo')\n",
    "c3 = computer('i3','dell')\n",
    "\n",
    "print(c1.cpu)\n",
    "print(c2.cpu)\n",
    "\n",
    "c1.compare(c2)\n",
    "c1.compare(c3)\n",
    "\n",
    "\n",
    "            "
   ]
  }
 ],
 "metadata": {
  "kernelspec": {
   "display_name": "Python 3",
   "language": "python",
   "name": "python3"
  },
  "language_info": {
   "codemirror_mode": {
    "name": "ipython",
    "version": 3
   },
   "file_extension": ".py",
   "mimetype": "text/x-python",
   "name": "python",
   "nbconvert_exporter": "python",
   "pygments_lexer": "ipython3",
   "version": "3.8.3"
  }
 },
 "nbformat": 4,
 "nbformat_minor": 4
}
